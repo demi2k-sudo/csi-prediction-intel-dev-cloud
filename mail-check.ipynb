{
 "cells": [
  {
   "cell_type": "code",
   "execution_count": 1,
   "id": "07d57dd4-ee39-49e1-8e66-d846ebb443a2",
   "metadata": {},
   "outputs": [
    {
     "data": {
      "application/vnd.jupyter.widget-view+json": {
       "model_id": "c5a331093f794f559e9efcc2070547a5",
       "version_major": 2,
       "version_minor": 0
      },
      "text/plain": [
       "Loading checkpoint shards:   0%|          | 0/2 [00:00<?, ?it/s]"
      ]
     },
     "metadata": {},
     "output_type": "display_data"
    },
    {
     "name": "stderr",
     "output_type": "stream",
     "text": [
      "/home/sdp/.local/lib/python3.10/site-packages/torch/_utils.py:776: UserWarning: TypedStorage is deprecated. It will be removed in the future and UntypedStorage will be the only storage class. This should only matter to you if you are using storages directly.  To access UntypedStorage directly, use tensor.untyped_storage() instead of tensor.storage()\n",
      "  return self.fget.__get__(instance, owner)()\n"
     ]
    }
   ],
   "source": [
    "import transformers\n",
    "import re\n",
    "from azure.communication.email import EmailClient\n",
    "\n",
    "\n",
    "model_name = 'Intel/neural-chat-7b-v3-3'\n",
    "model = transformers.AutoModelForCausalLM.from_pretrained(model_name)\n",
    "tokenizer = transformers.AutoTokenizer.from_pretrained(model_name)\n",
    "\n",
    "def generate_response(system_input, user_input):\n",
    "\n",
    "    # Format the input using the provided template\n",
    "    prompt = f\"### System:\\n{system_input}\\n### User:\\n{user_input}\\n### Assistant:\\n\"\n",
    "\n",
    "    # Tokenize and encode the prompt\n",
    "    inputs = tokenizer.encode(prompt, return_tensors=\"pt\", add_special_tokens=False)\n",
    "\n",
    "    # Generate a response\n",
    "    outputs = model.generate(inputs, max_length=10000, num_return_sequences=1)\n",
    "    response = tokenizer.decode(outputs[0], skip_special_tokens=True)\n",
    "\n",
    "    # Extract only the assistant's response\n",
    "    return response.split(\"### Assistant:\\n\")[-1]\n",
    "\n"
   ]
  },
  {
   "cell_type": "code",
   "execution_count": 2,
   "id": "df177666-0804-44d7-b834-1e38d69ff44e",
   "metadata": {},
   "outputs": [
    {
     "name": "stderr",
     "output_type": "stream",
     "text": [
      "The attention mask and the pad token id were not set. As a consequence, you may observe unexpected behavior. Please pass your input's `attention_mask` to obtain reliable results.\n",
      "Setting `pad_token_id` to `eos_token_id`:2 for open-end generation.\n"
     ]
    },
    {
     "name": "stdout",
     "output_type": "stream",
     "text": [
      " ***official(\"Ryan Bartos showed unprofessional behavior at the beginning of the call by using inappropriate language. He later requested to speak with Natalie Jones, who was in a meeting. Ryan provided his office number and cell phone number for her to contact him. The agent took down the contact information and agreed to pass the message on to Natalie.\")***\n"
     ]
    }
   ],
   "source": [
    "template = '''***official(\"Johnny showed unprofessional behavior at the beginning of the call by using inappropriate language and taking a long time, later he gave a contact information.\")***'''\n",
    "\n",
    "system_input = f'''You are the customer service supervisor. You should look at call transcripts and then see if there is any issue. if there is a issue in product you should say \"{template}\". if there is a issue with the customer service official you should say \"***official(\"the problem description\")***\" . like what you say using the before rules must be enclosed with three asterisks before and after. the problem description between the parantheses be elaborate in explaining the problem and why it happened '''\n",
    "user_input = '''[{'timestamp': (0.0, 3.08), 'text': ' Ellen speaking, how can I help you?'}, {'timestamp': (3.08, 5.36), 'text': ' Hello, this is Ryan Bartos.'}, {'timestamp': (5.36, 7.96), 'text': ' May I speak with Natalie Jones, please?'}, {'timestamp': (7.96, 11.2), 'text': \" Can't you wait for a minute you dumb duck, I'll put you through.\"}, {'timestamp': (11.2, 15.08), 'text': \" Mr. Bartos, I'm sorry, Natalie's in a meeting at the moment.\"}, {'timestamp': (15.08, 16.92), 'text': ' Would you like to leave a message?'}, {'timestamp': (16.92, 20.44), 'text': ' Yes, could you ask her to call me back as soon as possible?'}, {'timestamp': (20.44, 22.08), 'text': \" It's pretty urgent.\"}, {'timestamp': (22.08, 24.52), 'text': ' Of course, does she have your number?'}, {'timestamp': (24.52, 28.18), 'text': ' She has my office number, but let me also give you my cell.'}, {'timestamp': (28.18, 33.46), 'text': \" It's 472-555-8901.\"}, {'timestamp': (33.46, 35.34), 'text': ' Let me read that back to you.'}, {'timestamp': (35.34, 39.62), 'text': ' 472-555-8901.'}, {'timestamp': (39.62, 41.9), 'text': \" That's right.\"}, {'timestamp': (41.9, 44.9), 'text': ' And could you spell your last name for me?'}, {'timestamp': (44.9, 46.5), 'text': ' B as in Boston.'}, {'timestamp': (46.5, 49.0), 'text': ' ARD as in Dog.'}, {'timestamp': (49.0, 51.5), 'text': ' O.S as in September.'}, {'timestamp': (51.5, 54.5), 'text': \" Okay Mr. Bardo's, I'll give her the message.\"}, {'timestamp': (54.5, 56.5), 'text': ' Thanks a lot. Bye!'}]'''\n",
    "# response = generate_response(system_input, user_input)\n",
    "print(response)"
   ]
  },
  {
   "cell_type": "code",
   "execution_count": 3,
   "id": "fc168027-6d61-463f-846f-d3e0857f9f16",
   "metadata": {},
   "outputs": [],
   "source": [
    "def prompt_remover(string):\n",
    "    pattern = r'\\*{3}(.*?)\\*{3}'  \n",
    "    return re.findall(pattern, string)"
   ]
  },
  {
   "cell_type": "code",
   "execution_count": 4,
   "id": "d5b23cfc-36af-47ed-a33d-633236c043dd",
   "metadata": {},
   "outputs": [],
   "source": [
    "function = prompt_remover(response)"
   ]
  },
  {
   "cell_type": "code",
   "execution_count": 5,
   "id": "74b9a8af-fef2-4948-a276-b9de3b2ce6ee",
   "metadata": {},
   "outputs": [],
   "source": [
    "def extract_content(string):\n",
    "    pattern = r'(\\w+)\\(\\\"(.*?)\\\"\\)'\n",
    "    match = re.match(pattern, string)\n",
    "    if match:\n",
    "        return match.groups()\n",
    "    else:\n",
    "        return None"
   ]
  },
  {
   "cell_type": "code",
   "execution_count": 6,
   "id": "17a25a53-3e20-4b5f-bf2f-9bbde53e3b95",
   "metadata": {},
   "outputs": [],
   "source": [
    "ans = extract_content(function[0])"
   ]
  },
  {
   "cell_type": "code",
   "execution_count": 7,
   "id": "f6e8a4b5-bebd-4a6c-9a97-4e25314f09bb",
   "metadata": {},
   "outputs": [
    {
     "data": {
      "text/plain": [
       "('official',\n",
       " 'Ryan Bartos showed unprofessional behavior at the beginning of the call by using inappropriate language. He later requested to speak with Natalie Jones, who was in a meeting. Ryan provided his office number and cell phone number for her to contact him. The agent took down the contact information and agreed to pass the message on to Natalie.')"
      ]
     },
     "execution_count": 7,
     "metadata": {},
     "output_type": "execute_result"
    }
   ],
   "source": [
    "ans"
   ]
  },
  {
   "cell_type": "code",
   "execution_count": 13,
   "id": "46341e0d-0e7b-4efb-a9bb-a9e3d393dce3",
   "metadata": {},
   "outputs": [],
   "source": [
    "\n",
    "def sendmail(recipent,subject,content):\n",
    "    try:\n",
    "        connection_string = \"endpoint=https://intel-ai-hackathon.unitedstates.communication.azure.com/;accesskey=Jtk02urvGsZYOLJjT5xqjGYI9TMb0qLRwzFWvEHnzUMT9iiRhQ5lJ48HKoKEXTPAVLT1cWDU1vmQ/ymRQBnA7A==\"\n",
    "        client = EmailClient.from_connection_string(connection_string)\n",
    "\n",
    "        message = {\n",
    "            \"senderAddress\": \"DoNotReply@07ddf0c0-e4bf-4093-8d55-396d8c1cbd30.azurecomm.net\",\n",
    "            \"recipients\":  {\n",
    "                \"to\": [{\"address\": recipent }],\n",
    "            },\n",
    "            \"content\": {\n",
    "                \"subject\": subject,\n",
    "                \"plainText\": content,\n",
    "            }\n",
    "        }\n",
    "\n",
    "        poller = client.begin_send(message)\n",
    "        result = poller.result()\n",
    "\n",
    "    except Exception as ex:\n",
    "        print(ex)\n"
   ]
  },
  {
   "cell_type": "code",
   "execution_count": 16,
   "id": "998c6b63-b1b1-4b0f-8f7f-ad384507c4e7",
   "metadata": {},
   "outputs": [],
   "source": [
    "def assess(user_input):\n",
    "    template = '''***official(\"Johnny showed unprofessional behavior at the beginning of the call by using inappropriate language and taking a long time, later he gave a contact information.\")***'''\n",
    "\n",
    "    system_input = f'''You are the customer service supervisor. You should look at call transcripts and then see if there is any issue. if there is a issue in product you should say \"{template}\". if there is a issue with the customer service official you should say \"***official(\"the problem description\")***\" . like what you say using the before rules must be enclosed with three asterisks before and after. the problem description between the parantheses be elaborate in explaining the problem and why it happened '''\n",
    "    response = generate_response(system_input, user_input)\n",
    "    queries = prompt_remover(response)\n",
    "    for i in queries:\n",
    "        task, content = extract_content(i)\n",
    "        if (task=='official'):\n",
    "            sendmail('nabothdemetrius@gmail.com', 'Issue regarding customer service', content)\n",
    "            \n",
    "            "
   ]
  },
  {
   "cell_type": "code",
   "execution_count": 17,
   "id": "a069f7f5-b855-4079-b134-68ab6faa6b61",
   "metadata": {},
   "outputs": [
    {
     "name": "stderr",
     "output_type": "stream",
     "text": [
      "The attention mask and the pad token id were not set. As a consequence, you may observe unexpected behavior. Please pass your input's `attention_mask` to obtain reliable results.\n",
      "Setting `pad_token_id` to `eos_token_id`:2 for open-end generation.\n"
     ]
    }
   ],
   "source": [
    "assess(user_input)"
   ]
  },
  {
   "cell_type": "code",
   "execution_count": 8,
   "id": "856bf265-6505-499f-90d6-2944ee9c41ca",
   "metadata": {},
   "outputs": [],
   "source": []
  },
  {
   "cell_type": "code",
   "execution_count": 12,
   "id": "36cba59b-b9f9-4a48-8f18-098cf0ec1d01",
   "metadata": {},
   "outputs": [],
   "source": [
    "from azure.communication.email import EmailClient\n"
   ]
  },
  {
   "cell_type": "code",
   "execution_count": null,
   "id": "2b109add-09d2-4b21-ac61-35182fb6fc8d",
   "metadata": {},
   "outputs": [],
   "source": []
  }
 ],
 "metadata": {
  "kernelspec": {
   "display_name": "Python 3 (ipykernel)",
   "language": "python",
   "name": "python3"
  },
  "language_info": {
   "codemirror_mode": {
    "name": "ipython",
    "version": 3
   },
   "file_extension": ".py",
   "mimetype": "text/x-python",
   "name": "python",
   "nbconvert_exporter": "python",
   "pygments_lexer": "ipython3",
   "version": "3.10.12"
  }
 },
 "nbformat": 4,
 "nbformat_minor": 5
}
