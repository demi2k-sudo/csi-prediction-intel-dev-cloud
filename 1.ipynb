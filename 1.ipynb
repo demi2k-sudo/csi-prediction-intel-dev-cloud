{
 "cells": [
  {
   "cell_type": "code",
   "execution_count": 1,
   "metadata": {},
   "outputs": [
    {
     "name": "stdout",
     "output_type": "stream",
     "text": [
      "Collecting git+https://github.com/huggingface/speechbox\n",
      "  Cloning https://github.com/huggingface/speechbox to c:\\users\\naboth demetrius\\appdata\\local\\temp\\pip-req-build-n8ly8a3k\n",
      "  Resolved https://github.com/huggingface/speechbox to commit e7339dc021c8aa3047f824fb5c24b5b2c8197a76\n",
      "  Installing build dependencies: started\n",
      "  Installing build dependencies: finished with status 'done'\n",
      "  Getting requirements to build wheel: started\n",
      "  Getting requirements to build wheel: finished with status 'done'\n",
      "  Preparing metadata (pyproject.toml): started\n",
      "  Preparing metadata (pyproject.toml): finished with status 'done'\n",
      "Requirement already satisfied: torch>=1.9 in c:\\users\\naboth demetrius\\appdata\\local\\programs\\python\\python310\\lib\\site-packages (from speechbox==0.2.1) (2.1.0)\n",
      "Requirement already satisfied: importlib-metadata in c:\\users\\naboth demetrius\\appdata\\local\\programs\\python\\python310\\lib\\site-packages (from speechbox==0.2.1) (6.8.0)\n",
      "Requirement already satisfied: filelock in c:\\users\\naboth demetrius\\appdata\\local\\programs\\python\\python310\\lib\\site-packages (from speechbox==0.2.1) (3.12.4)\n",
      "Requirement already satisfied: numpy in c:\\users\\naboth demetrius\\appdata\\local\\programs\\python\\python310\\lib\\site-packages (from speechbox==0.2.1) (1.26.1)\n",
      "Requirement already satisfied: typing-extensions in c:\\users\\naboth demetrius\\appdata\\local\\programs\\python\\python310\\lib\\site-packages (from torch>=1.9->speechbox==0.2.1) (4.8.0)\n",
      "Requirement already satisfied: sympy in c:\\users\\naboth demetrius\\appdata\\local\\programs\\python\\python310\\lib\\site-packages (from torch>=1.9->speechbox==0.2.1) (1.12)\n",
      "Requirement already satisfied: networkx in c:\\users\\naboth demetrius\\appdata\\local\\programs\\python\\python310\\lib\\site-packages (from torch>=1.9->speechbox==0.2.1) (3.2)\n",
      "Requirement already satisfied: jinja2 in c:\\users\\naboth demetrius\\appdata\\local\\programs\\python\\python310\\lib\\site-packages (from torch>=1.9->speechbox==0.2.1) (3.1.2)\n",
      "Requirement already satisfied: fsspec in c:\\users\\naboth demetrius\\appdata\\local\\programs\\python\\python310\\lib\\site-packages (from torch>=1.9->speechbox==0.2.1) (2023.10.0)\n",
      "Requirement already satisfied: zipp>=0.5 in c:\\users\\naboth demetrius\\appdata\\local\\programs\\python\\python310\\lib\\site-packages (from importlib-metadata->speechbox==0.2.1) (3.17.0)\n",
      "Requirement already satisfied: MarkupSafe>=2.0 in c:\\users\\naboth demetrius\\appdata\\local\\programs\\python\\python310\\lib\\site-packages (from jinja2->torch>=1.9->speechbox==0.2.1) (2.1.3)\n",
      "Requirement already satisfied: mpmath>=0.19 in c:\\users\\naboth demetrius\\appdata\\local\\programs\\python\\python310\\lib\\site-packages (from sympy->torch>=1.9->speechbox==0.2.1) (1.3.0)\n",
      "Building wheels for collected packages: speechbox\n",
      "  Building wheel for speechbox (pyproject.toml): started\n",
      "  Building wheel for speechbox (pyproject.toml): finished with status 'done'\n",
      "  Created wheel for speechbox: filename=speechbox-0.2.1-py3-none-any.whl size=20858 sha256=9c0a9a659d93cbeecbcff3c60946c478c153eafdd522062ae037b28881a637e6\n",
      "  Stored in directory: C:\\Users\\Naboth Demetrius\\AppData\\Local\\Temp\\pip-ephem-wheel-cache-9x148iee\\wheels\\70\\04\\78\\77e144751d9781986de33e611e020bf0cb8c6fec6b4743925f\n",
      "Successfully built speechbox\n",
      "Installing collected packages: speechbox\n",
      "Successfully installed speechbox-0.2.1\n",
      "Note: you may need to restart the kernel to use updated packages.\n"
     ]
    },
    {
     "name": "stderr",
     "output_type": "stream",
     "text": [
      "  Running command git clone --filter=blob:none --quiet https://github.com/huggingface/speechbox 'C:\\Users\\Naboth Demetrius\\AppData\\Local\\Temp\\pip-req-build-n8ly8a3k'\n",
      "\n",
      "[notice] A new release of pip is available: 23.3.1 -> 24.0\n",
      "[notice] To update, run: python.exe -m pip install --upgrade pip\n"
     ]
    }
   ],
   "source": [
    "pip install git+https://github.com/huggingface/speechbox"
   ]
  },
  {
   "cell_type": "code",
   "execution_count": 1,
   "metadata": {},
   "outputs": [
    {
     "name": "stderr",
     "output_type": "stream",
     "text": [
      "c:\\Users\\Naboth Demetrius\\AppData\\Local\\Programs\\Python\\Python310\\lib\\site-packages\\torchvision\\io\\image.py:13: UserWarning: Failed to load image Python extension: '[WinError 127] The specified procedure could not be found'If you don't plan on using image functionality from `torchvision.io`, you can ignore this warning. Otherwise, there might be something wrong with your environment. Did you have `libjpeg` or `libpng` installed before building `torchvision` from source?\n",
      "  warn(\n",
      "c:\\Users\\Naboth Demetrius\\AppData\\Local\\Programs\\Python\\Python310\\lib\\site-packages\\tqdm\\auto.py:21: TqdmWarning: IProgress not found. Please update jupyter and ipywidgets. See https://ipywidgets.readthedocs.io/en/stable/user_install.html\n",
      "  from .autonotebook import tqdm as notebook_tqdm\n",
      "c:\\Users\\Naboth Demetrius\\AppData\\Local\\Programs\\Python\\Python310\\lib\\site-packages\\pyannote\\audio\\core\\io.py:43: UserWarning: torchaudio._backend.set_audio_backend has been deprecated. With dispatcher enabled, this function is no-op. You can remove the function call.\n",
      "  torchaudio.set_audio_backend(\"soundfile\")\n"
     ]
    }
   ],
   "source": [
    "from dotenv import load_dotenv\n",
    "import os\n",
    "from pyannote.audio import Pipeline"
   ]
  },
  {
   "cell_type": "code",
   "execution_count": 2,
   "metadata": {},
   "outputs": [],
   "source": [
    "load_dotenv()\n",
    "key = os.getenv('HUGGING_FACE_TOKEN')"
   ]
  },
  {
   "cell_type": "code",
   "execution_count": 3,
   "metadata": {},
   "outputs": [],
   "source": [
    "diarization_pipeline = Pipeline.from_pretrained(\n",
    "  \"pyannote/speaker-diarization-3.0\",\n",
    "  use_auth_token=key)\n"
   ]
  },
  {
   "cell_type": "code",
   "execution_count": 4,
   "metadata": {},
   "outputs": [
    {
     "name": "stderr",
     "output_type": "stream",
     "text": [
      "Special tokens have been added in the vocabulary, make sure the associated word embeddings are fine-tuned or trained.\n"
     ]
    }
   ],
   "source": [
    "from transformers import pipeline\n",
    "\n",
    "asr_pipeline = pipeline(\n",
    "    \"automatic-speech-recognition\",\n",
    "    model=\"openai/whisper-base\",\n",
    ")"
   ]
  },
  {
   "cell_type": "code",
   "execution_count": 5,
   "metadata": {},
   "outputs": [],
   "source": [
    "from speechbox import ASRDiarizationPipeline\n",
    "\n",
    "pipeline = ASRDiarizationPipeline(\n",
    "    asr_pipeline=asr_pipeline, diarization_pipeline=diarization_pipeline\n",
    ")"
   ]
  },
  {
   "cell_type": "code",
   "execution_count": 6,
   "metadata": {},
   "outputs": [
    {
     "ename": "ValueError",
     "evalue": "attempt to get argmin of an empty sequence",
     "output_type": "error",
     "traceback": [
      "\u001b[1;31m---------------------------------------------------------------------------\u001b[0m",
      "\u001b[1;31mValueError\u001b[0m                                Traceback (most recent call last)",
      "Cell \u001b[1;32mIn[6], line 1\u001b[0m\n\u001b[1;32m----> 1\u001b[0m \u001b[43mpipeline\u001b[49m\u001b[43m(\u001b[49m\u001b[38;5;124;43m\"\u001b[39;49m\u001b[38;5;124;43mnew.wav\u001b[39;49m\u001b[38;5;124;43m\"\u001b[39;49m\u001b[43m)\u001b[49m\n",
      "File \u001b[1;32mc:\\Users\\Naboth Demetrius\\AppData\\Local\\Programs\\Python\\Python310\\lib\\site-packages\\speechbox\\diarize.py:152\u001b[0m, in \u001b[0;36mASRDiarizationPipeline.__call__\u001b[1;34m(self, inputs, group_by_speaker, **kwargs)\u001b[0m\n\u001b[0;32m    150\u001b[0m end_time \u001b[38;5;241m=\u001b[39m segment[\u001b[38;5;124m\"\u001b[39m\u001b[38;5;124msegment\u001b[39m\u001b[38;5;124m\"\u001b[39m][\u001b[38;5;124m\"\u001b[39m\u001b[38;5;124mend\u001b[39m\u001b[38;5;124m\"\u001b[39m]\n\u001b[0;32m    151\u001b[0m \u001b[38;5;66;03m# find the ASR end timestamp that is closest to the diarizer's end timestamp and cut the transcript to here\u001b[39;00m\n\u001b[1;32m--> 152\u001b[0m upto_idx \u001b[38;5;241m=\u001b[39m \u001b[43mnp\u001b[49m\u001b[38;5;241;43m.\u001b[39;49m\u001b[43margmin\u001b[49m\u001b[43m(\u001b[49m\u001b[43mnp\u001b[49m\u001b[38;5;241;43m.\u001b[39;49m\u001b[43mabs\u001b[49m\u001b[43m(\u001b[49m\u001b[43mend_timestamps\u001b[49m\u001b[43m \u001b[49m\u001b[38;5;241;43m-\u001b[39;49m\u001b[43m \u001b[49m\u001b[43mend_time\u001b[49m\u001b[43m)\u001b[49m\u001b[43m)\u001b[49m\n\u001b[0;32m    154\u001b[0m \u001b[38;5;28;01mif\u001b[39;00m group_by_speaker:\n\u001b[0;32m    155\u001b[0m     segmented_preds\u001b[38;5;241m.\u001b[39mappend(\n\u001b[0;32m    156\u001b[0m         {\n\u001b[0;32m    157\u001b[0m             \u001b[38;5;124m\"\u001b[39m\u001b[38;5;124mspeaker\u001b[39m\u001b[38;5;124m\"\u001b[39m: segment[\u001b[38;5;124m\"\u001b[39m\u001b[38;5;124mspeaker\u001b[39m\u001b[38;5;124m\"\u001b[39m],\n\u001b[1;32m   (...)\u001b[0m\n\u001b[0;32m    160\u001b[0m         }\n\u001b[0;32m    161\u001b[0m     )\n",
      "File \u001b[1;32mc:\\Users\\Naboth Demetrius\\AppData\\Local\\Programs\\Python\\Python310\\lib\\site-packages\\numpy\\core\\fromnumeric.py:1325\u001b[0m, in \u001b[0;36margmin\u001b[1;34m(a, axis, out, keepdims)\u001b[0m\n\u001b[0;32m   1238\u001b[0m \u001b[38;5;250m\u001b[39m\u001b[38;5;124;03m\"\"\"\u001b[39;00m\n\u001b[0;32m   1239\u001b[0m \u001b[38;5;124;03mReturns the indices of the minimum values along an axis.\u001b[39;00m\n\u001b[0;32m   1240\u001b[0m \n\u001b[1;32m   (...)\u001b[0m\n\u001b[0;32m   1322\u001b[0m \u001b[38;5;124;03m(2, 1, 4)\u001b[39;00m\n\u001b[0;32m   1323\u001b[0m \u001b[38;5;124;03m\"\"\"\u001b[39;00m\n\u001b[0;32m   1324\u001b[0m kwds \u001b[38;5;241m=\u001b[39m {\u001b[38;5;124m'\u001b[39m\u001b[38;5;124mkeepdims\u001b[39m\u001b[38;5;124m'\u001b[39m: keepdims} \u001b[38;5;28;01mif\u001b[39;00m keepdims \u001b[38;5;129;01mis\u001b[39;00m \u001b[38;5;129;01mnot\u001b[39;00m np\u001b[38;5;241m.\u001b[39m_NoValue \u001b[38;5;28;01melse\u001b[39;00m {}\n\u001b[1;32m-> 1325\u001b[0m \u001b[38;5;28;01mreturn\u001b[39;00m _wrapfunc(a, \u001b[38;5;124m'\u001b[39m\u001b[38;5;124margmin\u001b[39m\u001b[38;5;124m'\u001b[39m, axis\u001b[38;5;241m=\u001b[39maxis, out\u001b[38;5;241m=\u001b[39mout, \u001b[38;5;241m*\u001b[39m\u001b[38;5;241m*\u001b[39mkwds)\n",
      "File \u001b[1;32mc:\\Users\\Naboth Demetrius\\AppData\\Local\\Programs\\Python\\Python310\\lib\\site-packages\\numpy\\core\\fromnumeric.py:59\u001b[0m, in \u001b[0;36m_wrapfunc\u001b[1;34m(obj, method, *args, **kwds)\u001b[0m\n\u001b[0;32m     56\u001b[0m     \u001b[38;5;28;01mreturn\u001b[39;00m _wrapit(obj, method, \u001b[38;5;241m*\u001b[39margs, \u001b[38;5;241m*\u001b[39m\u001b[38;5;241m*\u001b[39mkwds)\n\u001b[0;32m     58\u001b[0m \u001b[38;5;28;01mtry\u001b[39;00m:\n\u001b[1;32m---> 59\u001b[0m     \u001b[38;5;28;01mreturn\u001b[39;00m bound(\u001b[38;5;241m*\u001b[39margs, \u001b[38;5;241m*\u001b[39m\u001b[38;5;241m*\u001b[39mkwds)\n\u001b[0;32m     60\u001b[0m \u001b[38;5;28;01mexcept\u001b[39;00m \u001b[38;5;167;01mTypeError\u001b[39;00m:\n\u001b[0;32m     61\u001b[0m     \u001b[38;5;66;03m# A TypeError occurs if the object does have such a method in its\u001b[39;00m\n\u001b[0;32m     62\u001b[0m     \u001b[38;5;66;03m# class, but its signature is not identical to that of NumPy's. This\u001b[39;00m\n\u001b[1;32m   (...)\u001b[0m\n\u001b[0;32m     66\u001b[0m     \u001b[38;5;66;03m# Call _wrapit from within the except clause to ensure a potential\u001b[39;00m\n\u001b[0;32m     67\u001b[0m     \u001b[38;5;66;03m# exception has a traceback chain.\u001b[39;00m\n\u001b[0;32m     68\u001b[0m     \u001b[38;5;28;01mreturn\u001b[39;00m _wrapit(obj, method, \u001b[38;5;241m*\u001b[39margs, \u001b[38;5;241m*\u001b[39m\u001b[38;5;241m*\u001b[39mkwds)\n",
      "\u001b[1;31mValueError\u001b[0m: attempt to get argmin of an empty sequence"
     ]
    }
   ],
   "source": [
    "pipeline(\"new.wav\")"
   ]
  },
  {
   "cell_type": "code",
   "execution_count": 13,
   "metadata": {},
   "outputs": [],
   "source": [
    "def tuple_to_string(start_end_tuple, ndigits=1):\n",
    "    return str((round(start_end_tuple[0], ndigits), round(start_end_tuple[1], ndigits)))\n",
    "\n",
    "\n",
    "def format_as_transcription(raw_segments):\n",
    "    return \"\\n\\n\".join(\n",
    "        [\n",
    "            chunk[\"speaker\"] + \" \" + tuple_to_string(chunk[\"timestamp\"]) + chunk[\"text\"]\n",
    "            for chunk in raw_segments\n",
    "        ]\n",
    "    )"
   ]
  },
  {
   "cell_type": "code",
   "execution_count": 14,
   "metadata": {},
   "outputs": [
    {
     "ename": "AttributeError",
     "evalue": "'Annotation' object has no attribute 'for_json'",
     "output_type": "error",
     "traceback": [
      "\u001b[1;31m---------------------------------------------------------------------------\u001b[0m",
      "\u001b[1;31mAttributeError\u001b[0m                            Traceback (most recent call last)",
      "Cell \u001b[1;32mIn[14], line 1\u001b[0m\n\u001b[1;32m----> 1\u001b[0m outputs \u001b[38;5;241m=\u001b[39m \u001b[43mpipeline\u001b[49m\u001b[43m(\u001b[49m\u001b[38;5;124;43m\"\u001b[39;49m\u001b[38;5;124;43mnew.wav\u001b[39;49m\u001b[38;5;124;43m\"\u001b[39;49m\u001b[43m)\u001b[49m\n\u001b[0;32m      3\u001b[0m format_as_transcription(outputs)\n",
      "File \u001b[1;32mf:\\gpt\\cuda\\Lib\\site-packages\\speechbox\\diarize.py:90\u001b[0m, in \u001b[0;36mASRDiarizationPipeline.__call__\u001b[1;34m(self, inputs, group_by_speaker, **kwargs)\u001b[0m\n\u001b[0;32m     83\u001b[0m inputs, diarizer_inputs \u001b[38;5;241m=\u001b[39m \u001b[38;5;28mself\u001b[39m\u001b[38;5;241m.\u001b[39mpreprocess(inputs)\n\u001b[0;32m     85\u001b[0m diarization \u001b[38;5;241m=\u001b[39m \u001b[38;5;28mself\u001b[39m\u001b[38;5;241m.\u001b[39mdiarization_pipeline(\n\u001b[0;32m     86\u001b[0m     {\u001b[38;5;124m\"\u001b[39m\u001b[38;5;124mwaveform\u001b[39m\u001b[38;5;124m\"\u001b[39m: diarizer_inputs, \u001b[38;5;124m\"\u001b[39m\u001b[38;5;124msample_rate\u001b[39m\u001b[38;5;124m\"\u001b[39m: \u001b[38;5;28mself\u001b[39m\u001b[38;5;241m.\u001b[39msampling_rate},\n\u001b[0;32m     87\u001b[0m     \u001b[38;5;241m*\u001b[39m\u001b[38;5;241m*\u001b[39mkwargs,\n\u001b[0;32m     88\u001b[0m )\n\u001b[1;32m---> 90\u001b[0m segments \u001b[38;5;241m=\u001b[39m \u001b[43mdiarization\u001b[49m\u001b[38;5;241;43m.\u001b[39;49m\u001b[43mfor_json\u001b[49m()[\u001b[38;5;124m\"\u001b[39m\u001b[38;5;124mcontent\u001b[39m\u001b[38;5;124m\"\u001b[39m]\n\u001b[0;32m     92\u001b[0m \u001b[38;5;66;03m# diarizer output may contain consecutive segments from the same speaker (e.g. {(0 -> 1, speaker_1), (1 -> 1.5, speaker_1), ...})\u001b[39;00m\n\u001b[0;32m     93\u001b[0m \u001b[38;5;66;03m# we combine these segments to give overall timestamps for each speaker's turn (e.g. {(0 -> 1.5, speaker_1), ...})\u001b[39;00m\n\u001b[0;32m     94\u001b[0m new_segments \u001b[38;5;241m=\u001b[39m []\n",
      "\u001b[1;31mAttributeError\u001b[0m: 'Annotation' object has no attribute 'for_json'"
     ]
    }
   ],
   "source": [
    "outputs = pipeline(\"new.wav\")\n",
    "\n",
    "format_as_transcription(outputs)"
   ]
  },
  {
   "cell_type": "code",
   "execution_count": 6,
   "metadata": {},
   "outputs": [
    {
     "name": "stdout",
     "output_type": "stream",
     "text": [
      "Collecting onnxruntime\n",
      "  Downloading onnxruntime-1.17.1-cp310-cp310-win_amd64.whl.metadata (4.4 kB)\n",
      "Collecting coloredlogs (from onnxruntime)\n",
      "  Downloading coloredlogs-15.0.1-py2.py3-none-any.whl.metadata (12 kB)\n",
      "Collecting flatbuffers (from onnxruntime)\n",
      "  Downloading flatbuffers-23.5.26-py2.py3-none-any.whl.metadata (850 bytes)\n",
      "Requirement already satisfied: numpy>=1.21.6 in c:\\users\\naboth demetrius\\appdata\\local\\programs\\python\\python310\\lib\\site-packages (from onnxruntime) (1.26.1)\n",
      "Requirement already satisfied: packaging in c:\\users\\naboth demetrius\\appdata\\local\\programs\\python\\python310\\lib\\site-packages (from onnxruntime) (23.2)\n",
      "Requirement already satisfied: protobuf in c:\\users\\naboth demetrius\\appdata\\local\\programs\\python\\python310\\lib\\site-packages (from onnxruntime) (4.24.4)\n",
      "Requirement already satisfied: sympy in c:\\users\\naboth demetrius\\appdata\\local\\programs\\python\\python310\\lib\\site-packages (from onnxruntime) (1.12)\n",
      "Collecting humanfriendly>=9.1 (from coloredlogs->onnxruntime)\n",
      "  Downloading humanfriendly-10.0-py2.py3-none-any.whl.metadata (9.2 kB)\n",
      "Requirement already satisfied: mpmath>=0.19 in c:\\users\\naboth demetrius\\appdata\\local\\programs\\python\\python310\\lib\\site-packages (from sympy->onnxruntime) (1.3.0)\n",
      "Collecting pyreadline3 (from humanfriendly>=9.1->coloredlogs->onnxruntime)\n",
      "  Downloading pyreadline3-3.4.1-py3-none-any.whl.metadata (2.0 kB)\n",
      "Downloading onnxruntime-1.17.1-cp310-cp310-win_amd64.whl (5.6 MB)\n",
      "   ---------------------------------------- 0.0/5.6 MB ? eta -:--:--\n",
      "   - -------------------------------------- 0.2/5.6 MB 3.1 MB/s eta 0:00:02\n",
      "   --- ------------------------------------ 0.5/5.6 MB 4.7 MB/s eta 0:00:02\n",
      "   ------ --------------------------------- 0.9/5.6 MB 6.6 MB/s eta 0:00:01\n",
      "   ---------- ----------------------------- 1.4/5.6 MB 7.6 MB/s eta 0:00:01\n",
      "   ------------ --------------------------- 1.8/5.6 MB 8.0 MB/s eta 0:00:01\n",
      "   ------------- -------------------------- 1.9/5.6 MB 6.6 MB/s eta 0:00:01\n",
      "   --------------- ------------------------ 2.2/5.6 MB 6.7 MB/s eta 0:00:01\n",
      "   ------------------- -------------------- 2.7/5.6 MB 7.4 MB/s eta 0:00:01\n",
      "   ------------------- -------------------- 2.8/5.6 MB 6.8 MB/s eta 0:00:01\n",
      "   --------------------- ------------------ 3.0/5.6 MB 6.3 MB/s eta 0:00:01\n",
      "   ------------------------- -------------- 3.6/5.6 MB 7.0 MB/s eta 0:00:01\n",
      "   -------------------------- ------------- 3.8/5.6 MB 6.9 MB/s eta 0:00:01\n",
      "   ---------------------------- ----------- 4.0/5.6 MB 6.8 MB/s eta 0:00:01\n",
      "   ------------------------------ --------- 4.3/5.6 MB 6.6 MB/s eta 0:00:01\n",
      "   -------------------------------- ------- 4.5/5.6 MB 6.5 MB/s eta 0:00:01\n",
      "   --------------------------------- ------ 4.7/5.6 MB 6.3 MB/s eta 0:00:01\n",
      "   ----------------------------------- ---- 4.9/5.6 MB 6.3 MB/s eta 0:00:01\n",
      "   ------------------------------------- -- 5.2/5.6 MB 6.3 MB/s eta 0:00:01\n",
      "   -------------------------------------- - 5.4/5.6 MB 6.1 MB/s eta 0:00:01\n",
      "   ---------------------------------------  5.5/5.6 MB 6.1 MB/s eta 0:00:01\n",
      "   ---------------------------------------  5.6/5.6 MB 5.8 MB/s eta 0:00:01\n",
      "   ---------------------------------------- 5.6/5.6 MB 5.5 MB/s eta 0:00:00\n",
      "Downloading coloredlogs-15.0.1-py2.py3-none-any.whl (46 kB)\n",
      "   ---------------------------------------- 0.0/46.0 kB ? eta -:--:--\n",
      "   ---------------------------------------- 46.0/46.0 kB 2.2 MB/s eta 0:00:00\n",
      "Downloading flatbuffers-23.5.26-py2.py3-none-any.whl (26 kB)\n",
      "Downloading humanfriendly-10.0-py2.py3-none-any.whl (86 kB)\n",
      "   ---------------------------------------- 0.0/86.8 kB ? eta -:--:--\n",
      "   ---------------------------------------- 86.8/86.8 kB 4.8 MB/s eta 0:00:00\n",
      "Downloading pyreadline3-3.4.1-py3-none-any.whl (95 kB)\n",
      "   ---------------------------------------- 0.0/95.2 kB ? eta -:--:--\n",
      "   ---------------------------------------- 95.2/95.2 kB 5.3 MB/s eta 0:00:00\n",
      "Installing collected packages: pyreadline3, flatbuffers, humanfriendly, coloredlogs, onnxruntime\n",
      "Successfully installed coloredlogs-15.0.1 flatbuffers-23.5.26 humanfriendly-10.0 onnxruntime-1.17.1 pyreadline3-3.4.1\n",
      "Note: you may need to restart the kernel to use updated packages.\n"
     ]
    },
    {
     "name": "stderr",
     "output_type": "stream",
     "text": [
      "\n",
      "[notice] A new release of pip is available: 23.3.1 -> 24.0\n",
      "[notice] To update, run: python.exe -m pip install --upgrade pip\n"
     ]
    }
   ],
   "source": [
    "pip install onnxruntime"
   ]
  },
  {
   "cell_type": "code",
   "execution_count": null,
   "metadata": {},
   "outputs": [],
   "source": []
  }
 ],
 "metadata": {
  "kernelspec": {
   "display_name": "base",
   "language": "python",
   "name": "python3"
  },
  "language_info": {
   "codemirror_mode": {
    "name": "ipython",
    "version": 3
   },
   "file_extension": ".py",
   "mimetype": "text/x-python",
   "name": "python",
   "nbconvert_exporter": "python",
   "pygments_lexer": "ipython3",
   "version": "3.10.11"
  }
 },
 "nbformat": 4,
 "nbformat_minor": 2
}
